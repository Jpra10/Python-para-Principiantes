{
 "cells": [
  {
   "cell_type": "markdown",
   "metadata": {},
   "source": [
    "\n",
    "# Funciones\n",
    "\n",
    "Una **función**  es  una estructura que nos permite agrupar código.  Su idea es : \n",
    "\n",
    "1.  **No repetir**  trozos de código durante nuestro programa.    \n",
    "2.  **Reutilizar**  el código para distintas situaciones.   \n",
    "\n",
    "la estructura de una función sera : \n",
    "\n",
    " -   _nombre_, \n",
    " - _parámetros_ \n",
    " -  _valor de retorno_. "
   ]
  },
  {
   "cell_type": "code",
   "execution_count": null,
   "metadata": {},
   "outputs": [],
   "source": [
    "def say_hello():\n",
    "    print('Hello!')"
   ]
  },
  {
   "cell_type": "markdown",
   "metadata": {},
   "source": [
    "Al  _llamar_  una funcion estaremos solicitando su ejecución y obtendremos unos resultados.  "
   ]
  },
  {
   "cell_type": "markdown",
   "metadata": {},
   "source": [
    "\n",
    "## Definir una función\n",
    "\n",
    "Para definir una función utilizamos la palabra reservada  `def`  seguida del  **nombre** de la función seguida por paréntesis () \n",
    "\n",
    "Luego se agregan los **parámetros**  separados por comas que son los valores que se pueden usar dentro de la función, , y luego  **dos puntos**  `:` \n",
    "\n",
    "> por ejemplo los valores que ingresa un usuario por input, o valores que ya estan almacenados previamente. \n",
    " \n",
    "En la siguiente línea empezaría el  **codigo**  de la función que puede contener 1 o más  **sentencias** entre ellas podemos generar condicionales, calculos, llamados a otras funciones, etc\n",
    "\n",
    "para finalizar, si necesitamos regresar un valor y que dicho valor sea almacenado en una variable podemos agregar una  **sentencia de retorno**  con el resultado usando la palabra  `return`.\n"
   ]
  },
  {
   "cell_type": "code",
   "execution_count": 13,
   "metadata": {},
   "outputs": [],
   "source": [
    "def nombre_funcion(parametro1,parametro2):\n",
    "    return (parametro1/parametro2)*3\n",
    "\n",
    "def numero():\n",
    "    return 1"
   ]
  },
  {
   "cell_type": "markdown",
   "metadata": {},
   "source": [
    "### Invocar una función\n",
    "\n",
    "Para invocar (o «llamar») a una función sólo tendremos que escribir su nombre seguido de paréntesis. \n",
    "\n",
    "Esta acción se puede realizar cuando realizamos condicionales y otras operaciones"
   ]
  },
  {
   "cell_type": "code",
   "execution_count": 14,
   "metadata": {},
   "outputs": [
    {
     "name": "stdout",
     "output_type": "stream",
     "text": [
      "el numero es uno\n"
     ]
    }
   ],
   "source": [
    "if numero() ==1:\n",
    "    print(f'el numero es uno') "
   ]
  },
  {
   "cell_type": "markdown",
   "metadata": {},
   "source": [
    "## Parámetros y argumentos \n",
    "\n",
    "Dentro de los  **parámetros**  podemos agregar diferentes valores para obtener distintos resultados. Es asi como podemos generar calculadoras sencillas en python para conocer cualquier operacion con cualquier numero."
   ]
  },
  {
   "cell_type": "code",
   "execution_count": 5,
   "metadata": {},
   "outputs": [
    {
     "name": "stdout",
     "output_type": "stream",
     "text": [
      "menor\n"
     ]
    }
   ],
   "source": [
    "nombre_funcion(5,6)\n",
    "\n",
    "if nombre_funcion(5,6)>3:\n",
    "    print('mayor')\n",
    "else:\n",
    "    print('menor')"
   ]
  },
  {
   "cell_type": "markdown",
   "metadata": {},
   "source": [
    "## importante\n",
    "\n",
    "**El orden** en el que agregamos los parámetros importa. se deben agregar en el mismo orden en el que se especificó la función."
   ]
  },
  {
   "cell_type": "code",
   "execution_count": 17,
   "metadata": {},
   "outputs": [
    {
     "name": "stdout",
     "output_type": "stream",
     "text": [
      "menor\n"
     ]
    }
   ],
   "source": [
    "if nombre_funcion(5,6)>3:\n",
    "    print('mayor')\n",
    "else:\n",
    "    print('menor')\n"
   ]
  },
  {
   "cell_type": "code",
   "execution_count": 16,
   "metadata": {},
   "outputs": [
    {
     "name": "stdout",
     "output_type": "stream",
     "text": [
      "mayor\n"
     ]
    }
   ],
   "source": [
    "if nombre_funcion(6,5)>3:\n",
    "    print('mayor')\n",
    "else:\n",
    "    print('menor')"
   ]
  },
  {
   "cell_type": "markdown",
   "metadata": {},
   "source": [
    "## Ejercicios"
   ]
  },
  {
   "cell_type": "code",
   "execution_count": 23,
   "metadata": {},
   "outputs": [],
   "source": [
    "#crear nuestra funcion\n",
    "def Calcular_distancia_planeta(planeta):\n",
    "    if planeta=='mercurio':\n",
    "        print(150000)\n",
    "    else:\n",
    "        print(503400)  \n",
    "    "
   ]
  },
  {
   "cell_type": "code",
   "execution_count": 24,
   "metadata": {},
   "outputs": [
    {
     "name": "stdout",
     "output_type": "stream",
     "text": [
      "503400\n"
     ]
    }
   ],
   "source": [
    "#hacer la logica del programa\n",
    "\n",
    "planeta=input('ingrese un platena para conocer su distancia')\n",
    "\n",
    "Calcular_distancia_planeta(planeta)  "
   ]
  },
  {
   "cell_type": "markdown",
   "metadata": {},
   "source": [
    "Si necesitaramos el valor que nos tregresa la funcion para realizar alguna operacion necesitamos el return"
   ]
  },
  {
   "cell_type": "code",
   "execution_count": 36,
   "metadata": {},
   "outputs": [],
   "source": [
    "def Calcular_distancia_planeta(planeta):\n",
    "    if planeta=='mercurio':\n",
    "        return 150000\n",
    "    else:\n",
    "        return 50 \n",
    "    \n",
    "\n",
    "\n",
    "def calcular_tiempo_viaje(distancia):\n",
    "    return distancia*985"
   ]
  },
  {
   "cell_type": "code",
   "execution_count": 38,
   "metadata": {},
   "outputs": [],
   "source": [
    "planeta=input('ingrese un platena para conocer su distancia')\n",
    "distancia = Calcular_distancia_planeta(planeta)  \n",
    "\n",
    "if calcular_tiempo_viaje(distancia) > 50000000:\n",
    "    print('no es posible realizar el viaje, tomaria mucho tiempo')"
   ]
  }
 ],
 "metadata": {
  "kernelspec": {
   "display_name": "Python 3.10.5 64-bit (windows store)",
   "language": "python",
   "name": "python3"
  },
  "language_info": {
   "codemirror_mode": {
    "name": "ipython",
    "version": 3
   },
   "file_extension": ".py",
   "mimetype": "text/x-python",
   "name": "python",
   "nbconvert_exporter": "python",
   "pygments_lexer": "ipython3",
   "version": "3.10.5"
  },
  "orig_nbformat": 4,
  "vscode": {
   "interpreter": {
    "hash": "3d2437a6297f09dc0aad8fcc34370227381da3fdd343a01ee3abfafc233531c4"
   }
  }
 },
 "nbformat": 4,
 "nbformat_minor": 2
}
