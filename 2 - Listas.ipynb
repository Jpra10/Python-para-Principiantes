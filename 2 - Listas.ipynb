{
 "cells": [
  {
   "cell_type": "markdown",
   "metadata": {},
   "source": [
    "Los diferentes tipos se comportan de manera diferente en Python.\n",
    "Cuando sumas dos cadenas, por ejemplo, obtendrás un comportamiento diferente que cuando sumas dos enteros o dos booleanos."
   ]
  },
  {
   "cell_type": "code",
   "execution_count": 1,
   "metadata": {},
   "outputs": [
    {
     "name": "stdout",
     "output_type": "stream",
     "text": [
      "<class 'float'>\n",
      "compound interestcompound interest\n"
     ]
    }
   ],
   "source": [
    "savings = 100\n",
    "growth_multiplier = 1.1\n",
    "desc = \"compound interest\"\n",
    "\n",
    "# Assign product of growth_multiplier and savings to year1\n",
    "year1 = savings * growth_multiplier\n",
    "\n",
    "# Print the type of year1\n",
    "print(type(year1))\n",
    "\n",
    "# Assign sum of desc and desc to doubledesc\n",
    "doubledesc = desc + desc\n",
    "\n",
    "# Print out doubledesc\n",
    "print(doubledesc)\n"
   ]
  },
  {
   "cell_type": "markdown",
   "metadata": {},
   "source": [
    "## Operadores relacionales en python\n",
    "\n",
    "los operadores relacionales comparan los valores de dos variables o funciones y van a retornar un resultado de  **Verdadero (True)** o **Falso (False)** según la condición.\n",
    "\n",
    "![Python: Aprendiendo desde cero VI – Operadores - Blog Virtualizacion](https://www.maquinasvirtuales.eu/ipsoapoo/2020/12/python-aprendiendo-desde-cero-vi-operadores-2b.png)"
   ]
  },
  {
   "cell_type": "code",
   "execution_count": null,
   "metadata": {},
   "outputs": [],
   "source": [
    "##operadores"
   ]
  },
  {
   "cell_type": "markdown",
   "metadata": {},
   "source": [
    "\n",
    "## Operador Lógico\n",
    "\n",
    "Los operadores lógicos realizan operaciones **lógicas AND** , **OR** y **NOT** . Generalmente se usan junto con los operadores relacionales para poder crear diferentes caminos dentro de nuestro código según las condiciones se vayan cumpliendo."
   ]
  },
  {
   "cell_type": "code",
   "execution_count": null,
   "metadata": {},
   "outputs": [],
   "source": [
    "##operadores\n",
    "\n",
    "tienetarjetacredito =True\n",
    "menos < mayor >\n",
    "!= diferente\n",
    ">= <= \n",
    "\n"
   ]
  },
  {
   "cell_type": "markdown",
   "metadata": {},
   "source": [
    "\n",
    "## Tipos de datos de Python\n",
    "\n",
    "para los números, está el **float**, para representar un número real, y el **int**, para representar un número entero. \n",
    "también tenemos **str**, abreviatura de cadena, para representar texto en Python, y **bool**, que puede ser Verdadero o Falso. \n",
    "Puede guardar estos valores como una variable, y cada variable representa un valor único"
   ]
  },
  {
   "cell_type": "code",
   "execution_count": 15,
   "metadata": {},
   "outputs": [
    {
     "name": "stdout",
     "output_type": "stream",
     "text": [
      "Hola sergio, como estas \n",
      " me encuentro en colombia\n"
     ]
    }
   ],
   "source": [
    " ##variables\n",
    "\n",
    " mensaje = 'Hola sergio, como estas \\n me encuentro en colombia'\n",
    " peso = 89\n",
    "print(mensaje)\n",
    " mama=80\n",
    " papa=90\n",
    " hermana=60\n"
   ]
  },
  {
   "cell_type": "markdown",
   "metadata": {},
   "source": [
    "## Problema\n",
    "\n",
    "a menudo vamos a necesitar trabajar con muchos puntos de datos. \n",
    "**por ejemplo,** desea medir la altura de *todos los miembros de su familia* y almacenar esta información en Python, sería poco práctico crear una nueva variable de Python *para cada punto que recopiló*.\n",
    "\n",
    "   >  Lo que puede hacer en su lugar es almacenar toda esta información en una lista de Python."
   ]
  },
  {
   "cell_type": "markdown",
   "metadata": {},
   "source": [
    "\n",
    "## Lista de Python\n",
    "\n",
    " *Suponga que les pregunta a sus dos hermanas y padres su altura, en metros.*  Puede crear una lista usando **[]**.\n",
    "\n",
    "Usamos el nombre de la variable y el signo igual al frente.\n",
    "\n",
    " Una lista **es una forma de dar un solo nombre a una colección de valores.**  Estos valores, o elementos, pueden tener cualquier tipo;  pueden ser **flotantes, enteros, booleanos, cadenas,** \n",
    "\n",
    "> Incluso podemos tener una lista de listas"
   ]
  },
  {
   "cell_type": "code",
   "execution_count": 7,
   "metadata": {},
   "outputs": [
    {
     "name": "stdout",
     "output_type": "stream",
     "text": [
      "[82, 81, '60lorena']\n",
      "['madre', 60, 'padre', 80, 'hermana', 70, True]\n",
      "hermana\n"
     ]
    }
   ],
   "source": [
    "#listas [0,1 ,2 ,3]\n",
    "\n",
    "print([80+2,90-9,str(60)+'lorena'])  \n",
    "\n",
    "lista = [60,80,70,90,405,40,50]\n",
    "\n",
    "lista= [['madre',60],['padre',80],['hermana',70],[True]] #cualquier elemento\n",
    "print(lista)\n",
    "\n",
    "print(lista[-3])"
   ]
  },
  {
   "cell_type": "markdown",
   "metadata": {},
   "source": [
    "Suponga, por ejemplo, que desea **agregar los nombres de los familiares a su lista**, para saber *qué altura pertenece a quién*, por lo que podemos agregar algunas cadenas sin problemas."
   ]
  },
  {
   "cell_type": "code",
   "execution_count": 10,
   "metadata": {},
   "outputs": [
    {
     "name": "stdout",
     "output_type": "stream",
     "text": [
      "90\n",
      "60\n"
     ]
    }
   ],
   "source": [
    "#listas con nombres\n",
    "lista=[['mama',80],\n",
    "['papa',90] ,\n",
    "['hermana', 60]\n",
    "]   \n",
    "print(lista[1][1])\n",
    "\n",
    "pesoFamilia= [\n",
    "    ['mama',80],\n",
    "['papa',90] ,\n",
    "['hermana', 60]\n",
    "] \n",
    "\n",
    "print(pesoFamilia[2][1])"
   ]
  },
  {
   "cell_type": "markdown",
   "metadata": {},
   "source": [
    "## ALTO\n",
    "En lugar de poner las cadenas entre los números, puede crear pequeñas sublistas para cada miembro de la familia.\n",
    "\n",
    ">las pequeñas listas están entre **[]** y separadas por comas **,**."
   ]
  },
  {
   "cell_type": "code",
   "execution_count": 11,
   "metadata": {},
   "outputs": [],
   "source": [
    "#lista de listas\n",
    "nombre = input('nombre')\n",
    "edad=input('edad')\n",
    "\n",
    "datosPersona=[input('nombre'),input('edad')]"
   ]
  },
  {
   "cell_type": "markdown",
   "metadata": {},
   "source": [
    "Las listas de Python albergan funciones y herramientas para crear subconjuntos y adaptar los datos de manera dinámica. Cuáles son ?"
   ]
  },
  {
   "cell_type": "markdown",
   "metadata": {},
   "source": [
    "# otras caracteristicas de los datos!\n",
    "\n",
    "## Inmutabilidad de las cadenas\n",
    "\n",
    "En Python, las cadenas son inmutables. Es decir, **no pueden cambiar.** Esta propiedad del tipo de cadena puede ser sorprendente, ya que **Python no proporciona errores al modificar cadenas.**"
   ]
  },
  {
   "cell_type": "code",
   "execution_count": 12,
   "metadata": {},
   "outputs": [
    {
     "data": {
      "text/plain": [
       "'The Moon has no atmosphere.No sound can be heard on the Moon.'"
      ]
     },
     "execution_count": 12,
     "metadata": {},
     "output_type": "execute_result"
    }
   ],
   "source": [
    "fact = \"The Moon has no atmosphere.\"\n",
    "fact + \"No sound can be heard on the Moon.\""
   ]
  },
  {
   "cell_type": "markdown",
   "metadata": {},
   "source": [
    "Aunque podría parecer que se ha modificado la variable fact, una comprobación rápida del valor revela que el valor original no ha cambiado:"
   ]
  },
  {
   "cell_type": "code",
   "execution_count": 13,
   "metadata": {},
   "outputs": [
    {
     "name": "stdout",
     "output_type": "stream",
     "text": [
      "The Moon has no atmosphere.\n",
      "The Moon has no atmosphere.The Moon has no atmosphere.\n"
     ]
    }
   ],
   "source": [
    "print(fact)\n",
    "sumaF = fact + fact \n",
    "print(sumaF)"
   ]
  },
  {
   "cell_type": "markdown",
   "metadata": {},
   "source": [
    "El truco aquí es que se debe usar un valor devuelto. Al agregar cadenas, Python no modifica ninguna, sino que devuelve una cadena nueva como resultado. Para mantener este resultado nuevo, asígnelo a una nueva variable:"
   ]
  },
  {
   "cell_type": "code",
   "execution_count": 14,
   "metadata": {},
   "outputs": [
    {
     "data": {
      "text/plain": [
       "'The Moon has no atmosphere.No sound can be heard on the Moon.'"
      ]
     },
     "execution_count": 14,
     "metadata": {},
     "output_type": "execute_result"
    }
   ],
   "source": [
    "two_facts = fact + \"No sound can be heard on the Moon.\"\n",
    "two_facts"
   ]
  },
  {
   "cell_type": "markdown",
   "metadata": {},
   "source": [
    "mensaje = input('Ingrese su mensaje')"
   ]
  },
  {
   "cell_type": "code",
   "execution_count": 15,
   "metadata": {},
   "outputs": [
    {
     "name": "stdout",
     "output_type": "stream",
     "text": [
      "ceballos\n"
     ]
    }
   ],
   "source": [
    "mensaje = input('Ingrese su mensaje')\n",
    "mensajes= mensaje.split(\"/\")\n",
    "print(mensajes[1])"
   ]
  }
 ],
 "metadata": {
  "kernelspec": {
   "display_name": "Python 3.10.5 64-bit (windows store)",
   "language": "python",
   "name": "python3"
  },
  "language_info": {
   "codemirror_mode": {
    "name": "ipython",
    "version": 3
   },
   "file_extension": ".py",
   "mimetype": "text/x-python",
   "name": "python",
   "nbconvert_exporter": "python",
   "pygments_lexer": "ipython3",
   "version": "3.10.5"
  },
  "orig_nbformat": 4,
  "vscode": {
   "interpreter": {
    "hash": "3d2437a6297f09dc0aad8fcc34370227381da3fdd343a01ee3abfafc233531c4"
   }
  }
 },
 "nbformat": 4,
 "nbformat_minor": 2
}
