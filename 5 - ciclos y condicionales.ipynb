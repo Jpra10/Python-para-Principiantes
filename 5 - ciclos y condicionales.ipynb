{
 "cells": [
  {
   "cell_type": "markdown",
   "metadata": {},
   "source": [
    "# Condicionales\n",
    "\n",
    "## if\n",
    "\n",
    "Es una condición en la cual vamos a obtener como resultado : *CORRECTO Y CUMPLE , NO CUMPLE* \n",
    "\n",
    "***ejemplo:* el numero 1 es menor o mayor a 5 ? \n",
    " \n",
    "si o no \n",
    "0 o 1\n",
    "cumple o no cumple"
   ]
  },
  {
   "cell_type": "code",
   "execution_count": 5,
   "metadata": {},
   "outputs": [
    {
     "name": "stdout",
     "output_type": "stream",
     "text": [
      "usted ganó el juego con un or\n",
      "Señor usuario usted ingreso el número 10 y el número del sistema es 20\n"
     ]
    }
   ],
   "source": [
    "numero_usuario = int(input('ingrese el numero'))\n",
    "numero_sistema= 20\n",
    "\n",
    "if numero_usuario != numero_sistema and numero_usuario>numero_sistema:\n",
    "    print('usted ganó el juego con un and')\n",
    "\n",
    "if numero_usuario != numero_sistema or (numero_usuario>numero_sistema and numero_sistema>50):\n",
    "    print('usted ganó el juego con un or')\n",
    "\n",
    "\n",
    "print(f'Señor usuario usted ingreso el número {numero_usuario} y el número del sistema es {numero_sistema}')\n"
   ]
  },
  {
   "cell_type": "markdown",
   "metadata": {},
   "source": [
    "##  else\n",
    "\n",
    "si no se cumple la primera sentencia , entonces se ejecuta el else siempre. \n",
    "\n",
    "**if** condicion  **:**\n",
    "\n",
    "             instruccion\n",
    "**else:**\n",
    "\n",
    "            intruccion"
   ]
  },
  {
   "cell_type": "code",
   "execution_count": 11,
   "metadata": {},
   "outputs": [
    {
     "name": "stdout",
     "output_type": "stream",
     "text": [
      "numero mayor\n",
      "Señor usuario usted ingreso el número 60 y el número del sistema es 20\n"
     ]
    }
   ],
   "source": [
    "numero_usuario = int(input('ingrese el numero'))\n",
    "numero_sistema= 20\n",
    "\n",
    "if  numero_usuario==numero_sistema: #si se cumple \n",
    "    print('usted ganó el juego')\n",
    "elif numero_usuario<numero_sistema:\n",
    "    print('numero menor')\n",
    "elif numero_usuario>numero_sistema:\n",
    "    print('numero mayor')\n",
    "else:\n",
    "    print('usted perdió')\n",
    "\n",
    "print(f'Señor usuario usted ingreso el número {numero_usuario} y el número del sistema es {numero_sistema}')\n"
   ]
  },
  {
   "cell_type": "markdown",
   "metadata": {},
   "source": [
    "## elif\n",
    "\n",
    "Si no se cumple la primera sentencia, Se evaluará la siguiente condición: **elif**\n"
   ]
  },
  {
   "cell_type": "code",
   "execution_count": 14,
   "metadata": {},
   "outputs": [
    {
     "name": "stdout",
     "output_type": "stream",
     "text": [
      "usted ganó el juego\n",
      "Señor usuario usted ingreso el número 65 y el número del sistema es 20\n"
     ]
    }
   ],
   "source": [
    "numero_uno = int(input('ingrese el numero'))\n",
    "numero_sistema= 20\n",
    "\n",
    "if numero_uno > numero_sistema: #si se cumple \n",
    "    print('usted ganó el juego')\n",
    "elif numero_uno < numero_sistema:\n",
    "    print('usted perdió')\n",
    "else:\n",
    "    print('empató')\n",
    "\n",
    "print(f'Señor usuario usted ingreso el número {numero_uno} y el número del sistema es {numero_sistema}')"
   ]
  },
  {
   "cell_type": "markdown",
   "metadata": {},
   "source": [
    "**Recuerda**  podemos anidad condiciones y realizar diferentes validación dependiendo del resultado que obtenemos inicialmente. "
   ]
  },
  {
   "cell_type": "code",
   "execution_count": 15,
   "metadata": {},
   "outputs": [
    {
     "name": "stdout",
     "output_type": "stream",
     "text": [
      "usted perdió\n",
      "Señor usuario usted ingreso el número 30  y en su segundo intento 15 y el número del sistema es 20\n"
     ]
    }
   ],
   "source": [
    "numero_uno = int(input('ingrese el numero'))\n",
    "numero_sistema= 20\n",
    "\n",
    "if numero_uno > numero_sistema or  numero_uno < 50 : \n",
    "    numero_dos = int(input('Señor usuario vuelva a intentarlo'))\n",
    "    if numero_dos > numero_sistema:\n",
    "        print('usted ganó el juego')\n",
    "    else:\n",
    "        print('usted perdió')\n",
    "elif numero_uno < numero_sistema:\n",
    "    print('usted perdió')\n",
    "else:\n",
    "    print('empató')\n",
    "\n",
    "print(f'Señor usuario usted ingreso el número {numero_uno}  y en su segundo intento {numero_dos} y el número del sistema es {numero_sistema}')"
   ]
  },
  {
   "cell_type": "code",
   "execution_count": 5,
   "metadata": {},
   "outputs": [
    {
     "name": "stdout",
     "output_type": "stream",
     "text": [
      "es un numero\n"
     ]
    }
   ],
   "source": [
    "nombre = 5\n",
    "\n",
    "if type(nombre) == str:\n",
    "    print('texto encontrado')   \n",
    "else:\n",
    "    print('es un numero')"
   ]
  },
  {
   "cell_type": "markdown",
   "metadata": {},
   "source": [
    "# ciclos"
   ]
  },
  {
   "cell_type": "markdown",
   "metadata": {},
   "source": [
    "## Uso de cliclos \"for\" con listas\n",
    "\n",
    "**For** se usa para recorrer en bucle un **número conocido de veces**, una vez para cada elemento del objeto iterable.\n",
    "\n",
    "\n",
    "\n",
    "## **for**  elemento  **in**  lista_Evaluar **:**\n",
    "\tinstrucción\n"
   ]
  },
  {
   "cell_type": "code",
   "execution_count": 3,
   "metadata": {},
   "outputs": [
    {
     "name": "stdout",
     "output_type": "stream",
     "text": [
      "pera\n",
      "manzana\n",
      "banano\n",
      "durazno\n",
      "finalizamos\n",
      "5\n",
      "4\n",
      "3\n",
      "2\n",
      "1\n"
     ]
    }
   ],
   "source": [
    "#ejemplo for  frutas\n",
    "frutas=['pera','manzana','banano','durazno']\n",
    "\n",
    "for fruta in frutas:\n",
    "    print(fruta)\n",
    "\n",
    "print('finalizamos')\n",
    "\n",
    "contador=[5,4,3,2,1]\n",
    "\n",
    "for numero in contador:\n",
    "    print(numero)\n",
    "type()\n",
    "\n",
    "#Tarea separar los numeros de los textos\n",
    "datos=['lorena','apellido',60,80,'EPS',50]\n",
    "datos_texto=[]\n",
    "datos_numeros=[]\n",
    "\n",
    "#Separar numero de textos datos = ['Carlos','Tellez',42,80,'EPS',50] datos_numeros = [] datos_textos = [] for dato in datos: if type(dato) == int: datos_numeros.append(dato) else: datos_textos.append(dato) for dn in datos_numeros: print(dn) for dt in datos_textos: print(dt)\n"
   ]
  },
  {
   "cell_type": "markdown",
   "metadata": {},
   "source": [
    "## The range() Function\n",
    "\n",
    "To loop through a set of code a specified number of times, we can use the range() function,\n",
    "\n",
    "The  range()  function returns a sequence of numbers, starting from 0 by default, and increments by 1 (by default), and ends at a specified number."
   ]
  },
  {
   "cell_type": "code",
   "execution_count": 12,
   "metadata": {},
   "outputs": [
    {
     "name": "stdout",
     "output_type": "stream",
     "text": [
      "0\n",
      "1\n",
      "2\n",
      "usted a ingresado una pera\n",
      "las frutas seleccionada manzana no es permitida\n",
      "usted a ingresado un banano\n",
      "las frutas seleccionada durazno no es permitida\n"
     ]
    }
   ],
   "source": [
    "#range\n",
    "\n",
    "frutas=['pera','manzana','banano','durazno']\n",
    "\n",
    "for i in range(3):\n",
    "    print(i)\n",
    "\n",
    "for fruta in frutas:\n",
    "    if fruta=='pera':\n",
    "        print(f'usted a ingresado una {fruta}')\n",
    "    elif fruta=='banano':\n",
    "        print(f'usted a ingresado un {fruta}')\n",
    "    else:\n",
    "        print(f'las frutas seleccionada {fruta} no es permitida') \n",
    "\n",
    "\n"
   ]
  },
  {
   "cell_type": "code",
   "execution_count": 18,
   "metadata": {},
   "outputs": [
    {
     "name": "stdout",
     "output_type": "stream",
     "text": [
      "lista de numeros 42\n",
      "lista de numeros 80\n",
      "lista de numeros 50\n",
      "lista de textos Carlos\n",
      "lista de textos Tellez\n",
      "lista de textos EPS\n",
      "lista de numeros 42, 80, 50\n"
     ]
    }
   ],
   "source": [
    "#Separar numero de textos \n",
    "datos = ['Carlos','Tellez',42,80,'EPS',50,True] \n",
    "datos_numeros = [] \n",
    "datos_textos = [] \n",
    "datos_diferentes=[]\n",
    "for dato in datos: \n",
    "    if type(dato) == int:\n",
    "         datos_numeros.append(dato)\n",
    "    elif type(dato) ==str:\n",
    "        datos_textos.append(dato)\n",
    "    else:\n",
    "        datos_diferentes.append(dato)\n",
    "         \n",
    "        \n",
    "for dn in datos_numeros: \n",
    "    print(f'lista de numeros {dn}') \n",
    "\n",
    "\n",
    "\n",
    "for dt in datos_textos: \n",
    "    print(f'lista de textos {dt}')\n",
    "    "
   ]
  },
  {
   "cell_type": "markdown",
   "metadata": {},
   "source": [
    "## Else en el ciclo For \n",
    "\n",
    "la palabra  `else`  en un  `for`  loop especifica un bloque de cógido que se ejecuta cuando el loop finaliza."
   ]
  },
  {
   "cell_type": "code",
   "execution_count": 21,
   "metadata": {},
   "outputs": [
    {
     "name": "stdout",
     "output_type": "stream",
     "text": [
      "0\n",
      "1\n",
      "2\n",
      "3\n",
      "4\n",
      "5\n",
      "Finally finished!\n"
     ]
    }
   ],
   "source": [
    "#ejemplo else en un ciclo for \n",
    "for numero in  range(6):  \n",
    "    print(numero)  \n",
    "else:  \n",
    "    print(\"Finally finished!\")\n",
    "\n",
    "for dato in datos: \n",
    "    if type(dato) == int:\n",
    "         datos_numeros.append(dato)\n",
    "    elif type(dato) ==str:\n",
    "        datos_textos.append(dato)\n",
    "    else:\n",
    "        datos_diferentes.append(dato)\n",
    "else:\n",
    "    datos_numeros[1]*2"
   ]
  },
  {
   "cell_type": "markdown",
   "metadata": {},
   "source": [
    "**instruccion brake:** si necesitamos que el código salga del ciclo usamos la instrucción  `brake` "
   ]
  },
  {
   "cell_type": "code",
   "execution_count": null,
   "metadata": {},
   "outputs": [],
   "source": [
    "#ejemplo con instruccion brake\n",
    "\n"
   ]
  },
  {
   "cell_type": "markdown",
   "metadata": {},
   "source": [
    "## ciclos anidados\n",
    "\n",
    "**Un ciclo anidado es un ciclo dentro de un cilco.**\n",
    "\n",
    "El *\"ciclo interno\"* se ejecutará una vez por cada iteración del \"ciclo externo\":"
   ]
  },
  {
   "cell_type": "code",
   "execution_count": null,
   "metadata": {},
   "outputs": [],
   "source": [
    "#ejemplo de ciclos anidados con frutas"
   ]
  }
 ],
 "metadata": {
  "kernelspec": {
   "display_name": "Python 3.10.5 64-bit (windows store)",
   "language": "python",
   "name": "python3"
  },
  "language_info": {
   "codemirror_mode": {
    "name": "ipython",
    "version": 3
   },
   "file_extension": ".py",
   "mimetype": "text/x-python",
   "name": "python",
   "nbconvert_exporter": "python",
   "pygments_lexer": "ipython3",
   "version": "3.10.5"
  },
  "orig_nbformat": 4,
  "vscode": {
   "interpreter": {
    "hash": "3d2437a6297f09dc0aad8fcc34370227381da3fdd343a01ee3abfafc233531c4"
   }
  }
 },
 "nbformat": 4,
 "nbformat_minor": 2
}
