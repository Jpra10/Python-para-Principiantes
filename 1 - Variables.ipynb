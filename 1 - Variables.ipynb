{
 "cells": [
  {
   "cell_type": "markdown",
   "metadata": {},
   "source": [
    "## Asignación variable\n",
    "\n",
    "En Python, una variable le permite hacer referencia a un valor con un nombre.\n",
    "\n",
    "    x = 5\n",
    "\n",
    "Ahora puede utilizar el nombre de la variable,  x en lugar del valor real, 5.\n",
    "\n",
    "> Recuerde,  = en Python significa asignación , **¡ no prueba la igualdad !**\n",
    "\n",
    "# Variables\n",
    "\n",
    "**Ejemplo**\n",
    "Suponga que mide su altura y peso, en unidades métricas: mide 1. 79 metros de altura y pesa 68. 7 kilogramos. Puede asignar estos valores a dos variables, denominadas altura y peso, con un signo igual =\n",
    "si ahora escribe el nombre de la variable altura, Python busca el nombre de la variable, recupera su valor y lo imprime."
   ]
  },
  {
   "cell_type": "code",
   "execution_count": 6,
   "metadata": {},
   "outputs": [
    {
     "data": {
      "text/plain": [
       "str"
      ]
     },
     "execution_count": 6,
     "metadata": {},
     "output_type": "execute_result"
    }
   ],
   "source": [
    "#Peso es de 68.7\n",
    "#Altura es de 1.79\n",
    "\n",
    "#altura = 1.70\n",
    "#peso = 68.7\n",
    "\n",
    "\n",
    "variableNumerica = 8\n",
    "type(variableNumerica)\n",
    "variableString = 'lorena'\n",
    "type(variableString)\n",
    "\n",
    "altura = input(\"Por favor can't  ingrese su altura\") #ingresar un valor del usuario  str\n",
    "peso = input('Por favor ingrese su peso')\n"
   ]
  },
  {
   "cell_type": "markdown",
   "metadata": {},
   "source": [
    "# Por qué variables\n",
    "\n",
    "Suponga que el código para crear la altura, el peso y la variable bmi están en un script, como este. Si ahora desea volver a calcular el IMC para otro peso.\n",
    "\n",
    "simplemente puede cambiar la declaración de la variable de peso y volver a ejecutar el script. El IMC cambia en consecuencia, porque el valor del peso variable también ha cambiado."
   ]
  },
  {
   "cell_type": "code",
   "execution_count": 7,
   "metadata": {},
   "outputs": [
    {
     "name": "stdout",
     "output_type": "stream",
     "text": [
      "0.808235294117647\n",
      "0.808235294117647\n"
     ]
    }
   ],
   "source": [
    "#Formula del indice de masa es peso/altura*2\n",
    "\n",
    "altura = 170\n",
    "peso = 68.7\n",
    "imc = peso / altura *2\n",
    "\n",
    "print(imc)\n",
    "\n",
    "print(peso / altura *2)\n",
    "\n"
   ]
  },
  {
   "cell_type": "markdown",
   "metadata": {},
   "source": [
    "## Tipos de Python\n",
    "\n",
    "En Python, **todos los números tienen un tipo específico**. Puede verificar el tipo de un valor con la función ***type().*** Para ver el tipo de nuestro valor IMC , simplemente escriba type y luego IMC entre paréntesis."
   ]
  },
  {
   "cell_type": "code",
   "execution_count": 4,
   "metadata": {},
   "outputs": [
    {
     "data": {
      "text/plain": [
       "float"
      ]
     },
     "execution_count": 4,
     "metadata": {},
     "output_type": "execute_result"
    }
   ],
   "source": [
    "#Usar funcion type()\n",
    "type(imc)\n",
    "#type('5')"
   ]
  },
  {
   "cell_type": "markdown",
   "metadata": {},
   "source": [
    "### Y hay más!\n",
    "Python presenta otros tipos de datos. Los más comunes son las **cadenas** y los valores **booleanos**. \n",
    "\n",
    "-Una cadena es la forma en que Python representa **texto**.* Puede usar **comillas** simples y dobles para construir una cadena,\n",
    "\n",
    "Si imprime el tipo de la última variable aquí, verá que es **str**, abreviatura de ***string***. \n",
    "\n",
    "-El booleano es un tipo que puede ser **Verdadero** o **Falso**. \n",
    "\n",
    "> Puede pensar en ello como \"Sí\" y \"No\" en el lenguaje cotidiano.\n",
    "\n",
    "Los booleanos serán muy útiles en el futuro, para realizar operaciones de filtrado en sus datos, por ejemplo. Hay algo especial en los tipos de datos de Python."
   ]
  },
  {
   "cell_type": "markdown",
   "metadata": {},
   "source": [
    "## Importante \n",
    "\n",
    "Un pequeño vistazo a esta línea de código,"
   ]
  },
  {
   "cell_type": "code",
   "execution_count": 13,
   "metadata": {},
   "outputs": [
    {
     "name": "stdout",
     "output_type": "stream",
     "text": [
      "238.7\n",
      "Exitos\n"
     ]
    }
   ],
   "source": [
    "tieneTarjetaCredito = True\n",
    "type(tieneTarjetaCredito)\n",
    "#print(tieneTarjetaCredito)\n",
    "\n",
    "total = altura + peso\n",
    "print(total)\n",
    "\n",
    "\n",
    "if tieneTarjetaCredito:\n",
    "    print(\"Exitos\")"
   ]
  },
  {
   "cell_type": "markdown",
   "metadata": {},
   "source": [
    "\n",
    " Se están sumando dos enteros\n",
    "  \n",
    " Y esta línea de código? \n"
   ]
  },
  {
   "cell_type": "code",
   "execution_count": 14,
   "metadata": {},
   "outputs": [
    {
     "name": "stdout",
     "output_type": "stream",
     "text": [
      "238.7\n",
      "LorenaCeballos238.7\n"
     ]
    },
    {
     "data": {
      "text/plain": [
       "float"
      ]
     },
     "execution_count": 14,
     "metadata": {},
     "output_type": "execute_result"
    }
   ],
   "source": [
    "# union formant\n",
    "nombre = 'Lorena'\n",
    "Apellido = \"Ceballos\"\n",
    "NombreCompleto = nombre + Apellido\n",
    "print(total)\n",
    "print(NombreCompleto +  str(total))\n",
    "type(total)"
   ]
  },
  {
   "cell_type": "markdown",
   "metadata": {},
   "source": [
    "suma dos cadenas. \n",
    "\n",
    "> Para los números, los valores se sumaron, mientras que para las cadenas se unieron."
   ]
  },
  {
   "cell_type": "markdown",
   "metadata": {},
   "source": [
    "## Calculadoras\n",
    "\n",
    "Python está perfectamente adaptado para hacer cálculos básicos. Además de la suma, resta, multiplicación y división, también hay soporte para operaciones más avanzadas"
   ]
  },
  {
   "cell_type": "markdown",
   "metadata": {},
   "source": [
    "-   Exponenciación:  ** . Este operador eleva el número a su izquierda a la potencia del número a su derecha.  Por ejemplo 4**2 es igual 16.\n"
   ]
  },
  {
   "cell_type": "code",
   "execution_count": 21,
   "metadata": {},
   "outputs": [
    {
     "data": {
      "text/plain": [
       "16"
      ]
     },
     "execution_count": 21,
     "metadata": {},
     "output_type": "execute_result"
    }
   ],
   "source": [
    "#Ejercicios de Exponenciacion\n",
    "4**2\n"
   ]
  },
  {
   "cell_type": "markdown",
   "metadata": {},
   "source": [
    "-   Modulo:  %. Este operador devuelve el resto de la división del número de la izquierda por el número de la derecha. Por ejemplo 18 % 7es igual 4."
   ]
  },
  {
   "cell_type": "code",
   "execution_count": 22,
   "metadata": {},
   "outputs": [
    {
     "data": {
      "text/plain": [
       "4"
      ]
     },
     "execution_count": 22,
     "metadata": {},
     "output_type": "execute_result"
    }
   ],
   "source": [
    "#Ejercicio de Módulo\n",
    "18%7"
   ]
  },
  {
   "cell_type": "markdown",
   "metadata": {},
   "source": [
    "## Asegnación de Tipos de Variables en Python\n",
    "\n",
    "Una característica interesante de Python es que podemos asignar o inicializar múltiples variables en **una misma línea de código.**\n",
    "\n",
    "Por ejemplo, si se tienen las coordenados de un plano cartesiano,  _**x=1**_  y  _**y=2**_, podemos asignar estos tipos de datos en python creando los siguientes objetos en una única linea:"
   ]
  },
  {
   "cell_type": "code",
   "execution_count": 23,
   "metadata": {},
   "outputs": [],
   "source": [
    "x, y = 1, 2\n",
    "\n",
    "x = y = 5\n",
    "\n",
    "altura , peso = 1.70 , 68.7\n",
    "nombre , apellido = 'Lorena' , 'Ceballos'"
   ]
  },
  {
   "cell_type": "markdown",
   "metadata": {},
   "source": [
    "\n",
    "Ahora que entendemos el concepto de los tipos primitivos en python, veremos que existen las cuatro funciones elementales provenientes de estos tipos primitivos:\n",
    "\n",
    " - **int()**  Convierte a entero \n",
    " - **float()**  Convierte a flotante \n",
    " - **bool()**    Entrega False si es cero y True en el resto \n",
    " - **str()**  Convierte a string\n"
   ]
  },
  {
   "cell_type": "code",
   "execution_count": 27,
   "metadata": {},
   "outputs": [
    {
     "name": "stdout",
     "output_type": "stream",
     "text": [
      "Hola LorenaCeballos, tienes 70.4\n"
     ]
    }
   ],
   "source": [
    "#Ejemplo Funciones Primitivas\n",
    "# Hola scr , tienes float\n",
    "\n",
    "print('Hola ' + NombreCompleto + ', tienes ' + str(total))\n"
   ]
  },
  {
   "cell_type": "markdown",
   "metadata": {},
   "source": [
    "## Funciones primitivas y PRINT para concatenar mensajes\n",
    "\n",
    "Ya conocemos cómo funciona print(). Ahora podemos agregar a nuestros mensajes de pantalla mayor dinamismo. "
   ]
  },
  {
   "cell_type": "code",
   "execution_count": 10,
   "metadata": {},
   "outputs": [
    {
     "name": "stdout",
     "output_type": "stream",
     "text": [
      "hola lorena Ceballos, en estos momentos tienes 100 años\n",
      "holalorenaen estos momentos tienes 100a;os\n"
     ]
    }
   ],
   "source": [
    "#Variables : peso , altura \n",
    "#Mensaje : Su IMC calculado por el sistema es : X. Muchas gracias.\n",
    "\n",
    "#imprimir mensaje , suma\n",
    "\n",
    "nombre= 'lorena'\n",
    "apellido = 'Ceballos'\n",
    "edad= 100\n",
    "\n",
    "print(f'hola {nombre} {apellido}, en estos momentos tienes {edad} años')\n",
    "\n",
    "print('hola ' + nombre + ' en estos momentos tienes ' + str(edad) + ' a;os')"
   ]
  },
  {
   "cell_type": "markdown",
   "metadata": {},
   "source": [
    "Podemos usar un formato más avanzado, Para eso debemos usamos dentro del **print)=** una mascara con dos llaves **{}**. Estas llaves representan algún valor que queremos agregar dentro del mensaje. Luego, deberemos colocar un punto **.** usar la función **format)=** y los valores que deseamos pasar dentro de ella:"
   ]
  },
  {
   "cell_type": "code",
   "execution_count": 15,
   "metadata": {},
   "outputs": [
    {
     "name": "stdout",
     "output_type": "stream",
     "text": [
      "Hola  , LorenaCeballos, tienes True68.7\n",
      "Hola 238.7, tienes LorenaCeballos ademas tienes iun peso de 238.7\n",
      "hola Lorena, en este momento tienes un peso de 68.7  y una altura de 170 por lo que tu IMC es 0.808235294117647\n"
     ]
    }
   ],
   "source": [
    "\n",
    "# ' imprimir mensaje {} ' . format ( valores )\n",
    "\n",
    "print('Hola ' + ' , '+ NombreCompleto + ', tienes ' + str(tieneTarjetaCredito) + str(peso))\n",
    "\n",
    "print('Hola {}, tienes {} ademas tienes iun peso de {}'.format(NombreCompleto, total,total))\n",
    "\n",
    "print('hola {}, en este momento tienes un peso de {}  y una altura de {} por lo que tu IMC es {}'.format(nombre,peso,altura,imc))"
   ]
  },
  {
   "cell_type": "markdown",
   "metadata": {},
   "source": [
    "> Esta función ha sido simplificada. Para hacer un **print() formatado** basta con colocar un **f** *al inicio del string dentro de la función print()* y colocando las variables dentro de las **{}**."
   ]
  },
  {
   "cell_type": "code",
   "execution_count": 10,
   "metadata": {},
   "outputs": [
    {
     "name": "stdout",
     "output_type": "stream",
     "text": [
      "hola Lorena, tu peso total es 68.7 y tu altura es de 1.7\n"
     ]
    }
   ],
   "source": [
    "# Nuevo formato en print()\n",
    "\n",
    "print(f'hola {nombre}, tu peso total es {peso} y tu altura es de {altura}')"
   ]
  },
  {
   "cell_type": "code",
   "execution_count": 17,
   "metadata": {},
   "outputs": [
    {
     "name": "stdout",
     "output_type": "stream",
     "text": [
      "hola lorena, tienes un IMC de 70.58823529411765\n"
     ]
    }
   ],
   "source": [
    "#conocer el peso y la estatura para luego mostrar en pantalla un mensaje que diga hola -nombre, tienes un IMC de -valor\n",
    "\n",
    "nombre=input('hola usuario, cual es tu nombre')\n",
    "peso= float(input('peso'))\n",
    "altura= float(input('altura'))\n",
    "imc=    peso/altura*2\n",
    "print(f'hola {nombre}, tienes un IMC de {imc}')"
   ]
  }
 ],
 "metadata": {
  "kernelspec": {
   "display_name": "Python 3.10.5 64-bit (windows store)",
   "language": "python",
   "name": "python3"
  },
  "language_info": {
   "codemirror_mode": {
    "name": "ipython",
    "version": 3
   },
   "file_extension": ".py",
   "mimetype": "text/x-python",
   "name": "python",
   "nbconvert_exporter": "python",
   "pygments_lexer": "ipython3",
   "version": "3.10.5"
  },
  "orig_nbformat": 4,
  "vscode": {
   "interpreter": {
    "hash": "3d2437a6297f09dc0aad8fcc34370227381da3fdd343a01ee3abfafc233531c4"
   }
  }
 },
 "nbformat": 4,
 "nbformat_minor": 2
}
