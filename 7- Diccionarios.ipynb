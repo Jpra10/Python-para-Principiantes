{
 "cells": [
  {
   "cell_type": "markdown",
   "metadata": {},
   "source": [
    "\n",
    "# Diccionarios\n",
    "un diccionario es un objeto indexado por **claves** (las palabras) que tienen asociados unos **valores** (los significados).\n",
    "\n",
    " _características_:\n",
    "\n",
    "-   Mantienen el  **orden**  en el que se insertan las claves.    \n",
    "-   Son  **mutables**, con lo que admiten añadir, borrar y modificar sus elementos.    \n",
    "-   Las  **claves**  deben ser  **únicas**. A menudo se utilizan las  _cadenas de texto_  como claves, pero en realidad podría ser cualquier tipo de datos inmutable: enteros, flotantes, tuplas (entre otros).    \n",
    "-   Tienen un  **acceso muy rápido**  a sus elementos, debido a la forma en la que están implementados internamente.  \n"
   ]
  },
  {
   "cell_type": "code",
   "execution_count": null,
   "metadata": {},
   "outputs": [],
   "source": [
    "nombre_diccionario = {} "
   ]
  },
  {
   "cell_type": "markdown",
   "metadata": {},
   "source": [
    "\n",
    "Para crear un diccionario usamos llaves `{}` rodeando asignaciones `clave:  valor` que están separadas por comas. Veamos algunos ejemplos de diccionarios:"
   ]
  },
  {
   "cell_type": "code",
   "execution_count": 9,
   "metadata": {},
   "outputs": [
    {
     "name": "stdout",
     "output_type": "stream",
     "text": [
      "{'nombre': 'lorena', 'apellido': 'ceballos', 'edad': '100', 'telefono': 78458}\n"
     ]
    }
   ],
   "source": [
    "informacion_Personal = {\n",
    "    'nombre': 'lorena',\n",
    "    'apellido': 'ceballos',\n",
    "    'edad': '100',\n",
    "    'telefono': 78458\n",
    "}\n",
    "\n",
    "print(informacion_Personal)"
   ]
  },
  {
   "cell_type": "markdown",
   "metadata": {},
   "source": [
    "## Casteo de datos a diccionarios\n",
    "\n",
    "Para convertir las listas en un diccionarios podemos usar la función  `dict()`:"
   ]
  },
  {
   "cell_type": "code",
   "execution_count": 16,
   "metadata": {},
   "outputs": [
    {
     "data": {
      "text/plain": [
       "{'nombre': 'lorena'}"
      ]
     },
     "execution_count": 16,
     "metadata": {},
     "output_type": "execute_result"
    }
   ],
   "source": [
    "informacion_persona1=['nombre','lorena']\n",
    "informacion_persona2=['nombre','adrian']\n",
    "\n",
    "#informacion = {'mamá': 54, 'papá': 61, 'hermana': 22, 'abuela': 90, 'abuelo': 87}\n",
    "\n",
    "dict([informacion_persona1])"
   ]
  },
  {
   "cell_type": "markdown",
   "metadata": {},
   "source": [
    "\n",
    "### Otro escensario de creación\n",
    "\n",
    " Supongamos que queremos transformar la siguiente tabla en un diccionario:\n",
    "\n",
    "|nombre|apellido|edad|\n",
    "|-|-|-|\n",
    "|lorena\t|ceballos|16|\n",
    "|maria|perez|78|\n",
    "|juan|torres|7|\n",
    "|jose|posada|68|\n",
    "\n",
    "Utilizando  `dict` podemos pasar clave y valor como **argumentos** de la función:\n",
    "\n",
    "> recuerda que los argumentos son los valores que enviamos dentro de la funcion"
   ]
  },
  {
   "cell_type": "code",
   "execution_count": 1,
   "metadata": {},
   "outputs": [
    {
     "name": "stdout",
     "output_type": "stream",
     "text": [
      "{'nombre': 'lorena', 'apellido': 'ceballos', 'edad': 16, 'telefono': 7896, 'email': 'demo@demo.com'}\n"
     ]
    }
   ],
   "source": [
    "persona = dict(\n",
    "    nombre='lorena',\n",
    "    apellido=\"ceballos\",\n",
    "    edad=16,\n",
    "    telefono=7896,\n",
    "    email=\"demo@demo.com\"\n",
    ")\n",
    "\n",
    "print(persona)"
   ]
  },
  {
   "cell_type": "markdown",
   "metadata": {},
   "source": [
    "\n",
    "## `GET()` como funcion para obtener datos\n",
    "\n",
    "1.  Si la clave que buscamos existe, nos devuelve su valor.\n",
    "    \n",
    "2.  Si la clave que buscamos no existe, nos devuelve  `None`  salvo que le indiquemos otro valor por defecto, pero en ninguno de los dos casos obtendremos un error.\n"
   ]
  },
  {
   "cell_type": "code",
   "execution_count": 20,
   "metadata": {},
   "outputs": [
    {
     "data": {
      "text/plain": [
       "'demo@demo.com'"
      ]
     },
     "execution_count": 20,
     "metadata": {},
     "output_type": "execute_result"
    }
   ],
   "source": [
    "persona.get('email')"
   ]
  },
  {
   "cell_type": "markdown",
   "metadata": {},
   "source": [
    "\n",
    "### Añadir o modificar un elemento"
   ]
  },
  {
   "cell_type": "code",
   "execution_count": 2,
   "metadata": {},
   "outputs": [],
   "source": [
    "#agregar\n",
    "persona[\"tarjeta\"]=True\n",
    "persona[\"Direccion\"]=\"Calle 25\"\n",
    "\n",
    "# modificar\n",
    "persona[\"telefono\"]=123457"
   ]
  }
 ],
 "metadata": {
  "kernelspec": {
   "display_name": "Python 3.10.5 64-bit (windows store)",
   "language": "python",
   "name": "python3"
  },
  "language_info": {
   "codemirror_mode": {
    "name": "ipython",
    "version": 3
   },
   "file_extension": ".py",
   "mimetype": "text/x-python",
   "name": "python",
   "nbconvert_exporter": "python",
   "pygments_lexer": "ipython3",
   "version": "3.10.5"
  },
  "orig_nbformat": 4,
  "vscode": {
   "interpreter": {
    "hash": "3d2437a6297f09dc0aad8fcc34370227381da3fdd343a01ee3abfafc233531c4"
   }
  }
 },
 "nbformat": 4,
 "nbformat_minor": 2
}
