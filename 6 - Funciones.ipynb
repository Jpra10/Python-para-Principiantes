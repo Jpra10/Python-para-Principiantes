{
 "cells": [
  {
   "cell_type": "markdown",
   "metadata": {},
   "source": [
    "\n",
    "# Funciones\n",
    "\n",
    "Una **función**  es  una estructura que nos permite agrupar código.  Su idea es : \n",
    "\n",
    "1.  **No repetir**  trozos de código durante nuestro programa.    \n",
    "2.  **Reutilizar**  el código para distintas situaciones.   \n",
    "\n",
    "la estructura de una función sera : \n",
    "\n",
    " -   _nombre_, \n",
    " - _parámetros_ \n",
    " -  _valor de retorno_. "
   ]
  },
  {
   "cell_type": "code",
   "execution_count": 10,
   "metadata": {},
   "outputs": [
    {
     "name": "stdout",
     "output_type": "stream",
     "text": [
      "hola mundo\n",
      "Hola lorena Maria\n"
     ]
    }
   ],
   "source": [
    "#def nombre_funcion():\n",
    "    #instruccion\n",
    "def saludarUno():\n",
    "    print('hola mundo')\n",
    "    \n",
    "Nombre_Completo = str(input('Nombre Y Apellidos')) \n",
    "\n",
    "def saludar(nombre):\n",
    "    print(f'Hola {nombre}')\n",
    "\n",
    "saludarUno()\n",
    "saludar('lorena Maria')"
   ]
  },
  {
   "cell_type": "markdown",
   "metadata": {},
   "source": [
    "Al  _llamar_  una funcion estaremos solicitando su ejecución y obtendremos unos resultados.  "
   ]
  },
  {
   "cell_type": "markdown",
   "metadata": {},
   "source": [
    "\n",
    "## Definir una función\n",
    "\n",
    "Para definir una función utilizamos la palabra reservada  `def`  seguida del  **nombre** de la función seguida por paréntesis () \n",
    "\n",
    "Luego se agregan los **parámetros**  separados por comas que son los valores que se pueden usar dentro de la función, , y luego  **dos puntos**  `:` \n",
    "\n",
    "> por ejemplo los valores que ingresa un usuario por input, o valores que ya estan almacenados previamente. \n",
    " \n",
    "En la siguiente línea empezaría el  **codigo**  de la función que puede contener 1 o más  **sentencias** entre ellas podemos generar condicionales, calculos, llamados a otras funciones, etc\n",
    "\n",
    "para finalizar, si necesitamos regresar un valor y que dicho valor sea almacenado en una variable podemos agregar una  **sentencia de retorno**  con el resultado usando la palabra  `return`.\n"
   ]
  },
  {
   "cell_type": "code",
   "execution_count": 11,
   "metadata": {},
   "outputs": [
    {
     "name": "stdout",
     "output_type": "stream",
     "text": [
      "Hola lorena ceballos\n"
     ]
    }
   ],
   "source": [
    "\n",
    "def saludarV2 (): \n",
    "    print(f'Hola {Nombre_Completo}') \n",
    "\n",
    "saludarV2()"
   ]
  },
  {
   "cell_type": "markdown",
   "metadata": {},
   "source": [
    "### Invocar una función\n",
    "\n",
    "Para invocar (o «llamar») a una función sólo tendremos que escribir su nombre seguido de paréntesis. \n",
    "\n",
    "Esta acción se puede realizar cuando realizamos condicionales y otras operaciones"
   ]
  },
  {
   "cell_type": "code",
   "execution_count": 13,
   "metadata": {},
   "outputs": [
    {
     "name": "stdout",
     "output_type": "stream",
     "text": [
      "hola mundo\n"
     ]
    }
   ],
   "source": [
    "saludarUno()"
   ]
  },
  {
   "cell_type": "markdown",
   "metadata": {},
   "source": [
    "## Parámetros y argumentos \n",
    "\n",
    "Dentro de los  **parámetros**  podemos agregar diferentes valores para obtener distintos resultados. Es asi como podemos generar calculadoras sencillas en python para conocer cualquier operacion con cualquier numero."
   ]
  },
  {
   "cell_type": "code",
   "execution_count": 18,
   "metadata": {},
   "outputs": [],
   "source": [
    "def numero():\n",
    "    return 1"
   ]
  },
  {
   "cell_type": "code",
   "execution_count": null,
   "metadata": {},
   "outputs": [],
   "source": [
    "numeros = numero()\n",
    "\n",
    "if numeros ==1:\n",
    "    print('el numero es encontrado')"
   ]
  },
  {
   "cell_type": "markdown",
   "metadata": {},
   "source": [
    "## importante\n",
    "\n",
    "**El orden** en el que agregamos los parámetros importa. se deben agregar en el mismo orden en el que se especificó la función."
   ]
  },
  {
   "cell_type": "code",
   "execution_count": 2,
   "metadata": {},
   "outputs": [
    {
     "name": "stdout",
     "output_type": "stream",
     "text": [
      "lorena ceballos\n",
      "juan perez\n"
     ]
    }
   ],
   "source": [
    "def nombreCompleto(nombre,apellido):\n",
    "    print(nombre +' '+ apellido)\n",
    "\n",
    "nombreCompleto('lorena' ,'ceballos' )\n",
    "\n",
    "nombreCompleto('juan' ,'perez' )"
   ]
  },
  {
   "cell_type": "markdown",
   "metadata": {},
   "source": [
    "## Ejercicios"
   ]
  },
  {
   "cell_type": "code",
   "execution_count": 4,
   "metadata": {},
   "outputs": [],
   "source": [
    "#crear nuestra funcion\n",
    "def Calcular_distancia_planeta(planeta):\n",
    "    if planeta=='mercurio':\n",
    "        print(150000)\n",
    "    elif planeta=='tierra':\n",
    "        print(600)\n",
    "    else:\n",
    "        print(503400)  \n",
    "    "
   ]
  },
  {
   "cell_type": "code",
   "execution_count": 8,
   "metadata": {},
   "outputs": [
    {
     "name": "stdout",
     "output_type": "stream",
     "text": [
      "600\n"
     ]
    }
   ],
   "source": [
    "planetaInput=input('ingrese el planeta para conocer su distancia')\n",
    "Calcular_distancia_planeta(planetaInput)\n",
    "\n",
    "Calcular_distancia_planeta(input('ingrese el planeta para conocer su distancia'))"
   ]
  },
  {
   "cell_type": "markdown",
   "metadata": {},
   "source": [
    "Si necesitaramos el valor que nos tregresa la funcion para realizar alguna operacion necesitamos el return"
   ]
  },
  {
   "cell_type": "code",
   "execution_count": 13,
   "metadata": {},
   "outputs": [],
   "source": [
    "#crear nuestra funcion\n",
    "def distancia_planeta(planeta):\n",
    "    if planeta=='mercurio':\n",
    "        return 150000\n",
    "    elif planeta=='tierra':\n",
    "        return 600\n",
    "    else:\n",
    "        return 503400 \n",
    "\n",
    "def calcular_distancia_viaje(distancia,tiempo):\n",
    "    return distancia/tiempo\n",
    "\n",
    "#otra manera de enviar datos a una funcion\n",
    "#calcular_distancia_viaje(tiempo=78,distancia=16)"
   ]
  },
  {
   "cell_type": "code",
   "execution_count": 14,
   "metadata": {},
   "outputs": [
    {
     "data": {
      "text/plain": [
       "10.714285714285714"
      ]
     },
     "execution_count": 14,
     "metadata": {},
     "output_type": "execute_result"
    }
   ],
   "source": [
    "planeta= input('ingrese el planeta para conocer su distancia')\n",
    "distancia = distancia_planeta(planeta)\n",
    "calcular_distancia_viaje(distancia,56)\n",
    "\n",
    "#calcular_distancia_viaje(distancia_planeta(input('ingrese el planeta para conocer su distancia')),56)\n"
   ]
  }
 ],
 "metadata": {
  "kernelspec": {
   "display_name": "Python 3.10.5 64-bit (windows store)",
   "language": "python",
   "name": "python3"
  },
  "language_info": {
   "codemirror_mode": {
    "name": "ipython",
    "version": 3
   },
   "file_extension": ".py",
   "mimetype": "text/x-python",
   "name": "python",
   "nbconvert_exporter": "python",
   "pygments_lexer": "ipython3",
   "version": "3.10.5"
  },
  "orig_nbformat": 4,
  "vscode": {
   "interpreter": {
    "hash": "3d2437a6297f09dc0aad8fcc34370227381da3fdd343a01ee3abfafc233531c4"
   }
  }
 },
 "nbformat": 4,
 "nbformat_minor": 2
}
