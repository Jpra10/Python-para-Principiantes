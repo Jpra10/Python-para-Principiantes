{
 "cells": [
  {
   "cell_type": "markdown",
   "metadata": {},
   "source": [
    "\n",
    "## Paquetes\n",
    "\n",
    "**Puede pensar en los paquetes como un directorio de scripts de Python.** Cada uno de estos guiones es un **módulo**. \n",
    "\n",
    "Estos módulos especifican **funciones, métodos** y nuevos tipos de Python destinados a resolver problemas particulares. \n"
   ]
  },
  {
   "cell_type": "code",
   "execution_count": 1,
   "metadata": {},
   "outputs": [
    {
     "name": "stdout",
     "output_type": "stream",
     "text": [
      "2022-06-21 16:02:04.510934\n",
      "2022-07-28 10:02:04.510934\n"
     ]
    }
   ],
   "source": [
    "from datetime import *\n",
    "from dateutil.relativedelta import *\n",
    "now = datetime.now()\n",
    "print(now)\n",
    "\n",
    "now = now + relativedelta(months=1, weeks=1, hour=10)\n",
    "\n",
    "print(now)"
   ]
  }
 ],
 "metadata": {
  "kernelspec": {
   "display_name": "Python 3.10.5 64-bit (windows store)",
   "language": "python",
   "name": "python3"
  },
  "language_info": {
   "codemirror_mode": {
    "name": "ipython",
    "version": 3
   },
   "file_extension": ".py",
   "mimetype": "text/x-python",
   "name": "python",
   "nbconvert_exporter": "python",
   "pygments_lexer": "ipython3",
   "version": "3.10.5"
  },
  "orig_nbformat": 4,
  "vscode": {
   "interpreter": {
    "hash": "3d2437a6297f09dc0aad8fcc34370227381da3fdd343a01ee3abfafc233531c4"
   }
  }
 },
 "nbformat": 4,
 "nbformat_minor": 2
}
