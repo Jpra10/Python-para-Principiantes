{
 "cells": [
  {
   "cell_type": "markdown",
   "metadata": {},
   "source": [
    "## Funciones\n",
    "\n",
    "En pocas palabras, una función es un fragmento de código reutilizable, destinado a resolver una tarea en particular.\n"
   ]
  },
  {
   "cell_type": "code",
   "execution_count": 5,
   "metadata": {},
   "outputs": [
    {
     "name": "stdout",
     "output_type": "stream",
     "text": [
      "5\n"
     ]
    },
    {
     "data": {
      "text/plain": [
       "str"
      ]
     },
     "execution_count": 5,
     "metadata": {},
     "output_type": "execute_result"
    }
   ],
   "source": [
    "#funciones que se han usado  str int bool float print type input display\n",
    "print(5)\n",
    "variable_registro=input('ingresar elemento en pantalla')\n",
    "#split(':') # separar cadenas\n",
    "type(variable_registro)\n",
    "\n",
    "\n",
    "print()\n",
    "type()\n",
    "input()\n",
    "max()\n"
   ]
  },
  {
   "cell_type": "markdown",
   "metadata": {},
   "source": [
    "## max()\n",
    "\n",
    "En lugar de escribir su propio código Python que pase por la lista y encuentra el valor más alto en dicha lista, puede usar la función **max()** de Python."
   ]
  },
  {
   "cell_type": "code",
   "execution_count": 1,
   "metadata": {},
   "outputs": [],
   "source": [
    "# max de una lista de alturas\n",
    "\n",
    "areas = [11.25, 18.0, 20.0, 10.75, 9.50]\n",
    "\n",
    "max_area = max(areas)\n",
    "min_area = min(areas)"
   ]
  },
  {
   "cell_type": "markdown",
   "metadata": {},
   "source": [
    "Recurda que todos los valores que calculamos podemos asignarlo a una variable para usarlo más adelante. "
   ]
  },
  {
   "cell_type": "code",
   "execution_count": 2,
   "metadata": {},
   "outputs": [
    {
     "data": {
      "text/plain": [
       "20"
      ]
     },
     "execution_count": 2,
     "metadata": {},
     "output_type": "execute_result"
    }
   ],
   "source": [
    "#altura mayor.\n",
    "round(min_area,2)\n",
    "round(max_area)"
   ]
  },
  {
   "cell_type": "markdown",
   "metadata": {},
   "source": [
    "## round()\n",
    "\n",
    "Nos permite redondear valores. y para usarlo se necesitan dos entradas: \n",
    "1. un número que desea redondear, \n",
    "2. la precisión con la que redondear, es decir, cuántos dígitos detrás del punto decimal desea mantener."
   ]
  },
  {
   "cell_type": "code",
   "execution_count": null,
   "metadata": {},
   "outputs": [],
   "source": [
    "#round( # , dec )\n"
   ]
  },
  {
   "cell_type": "markdown",
   "metadata": {},
   "source": [
    "\n",
    "## Métodos \n",
    "\n",
    "Los métodos a diferencia s**iempre deben existir como propiedades de una clase en especia**, es decir, si hablamos de textos, cuáles propiedades van a aplicar para los textos que NO tienen los número. \n",
    "\n",
    "**cadena**  upper()\n",
    "**listas**    index()  count() append() remove() reverse()\n"
   ]
  },
  {
   "cell_type": "code",
   "execution_count": 4,
   "metadata": {},
   "outputs": [
    {
     "name": "stdout",
     "output_type": "stream",
     "text": [
      "Lorena\n"
     ]
    }
   ],
   "source": [
    "#uso de métodos\n",
    "\n",
    "\n",
    "x = [\"a\", \"b\", \"c\", \"d\"]\n",
    "#x = x +['l']\n",
    "\n",
    "x.append('p')\n",
    "\n",
    "\n",
    "newx= x[:3]\n",
    "\n",
    "x.remove('d')\n",
    "\n",
    "nombre='lorena'\n",
    "\n",
    "print(nombre.capitalize())\n",
    "\n"
   ]
  },
  {
   "cell_type": "code",
   "execution_count": null,
   "metadata": {},
   "outputs": [],
   "source": []
  }
 ],
 "metadata": {
  "kernelspec": {
   "display_name": "Python 3.10.5 64-bit (windows store)",
   "language": "python",
   "name": "python3"
  },
  "language_info": {
   "codemirror_mode": {
    "name": "ipython",
    "version": 3
   },
   "file_extension": ".py",
   "mimetype": "text/x-python",
   "name": "python",
   "nbconvert_exporter": "python",
   "pygments_lexer": "ipython3",
   "version": "3.10.5"
  },
  "orig_nbformat": 4,
  "vscode": {
   "interpreter": {
    "hash": "3d2437a6297f09dc0aad8fcc34370227381da3fdd343a01ee3abfafc233531c4"
   }
  }
 },
 "nbformat": 4,
 "nbformat_minor": 2
}
