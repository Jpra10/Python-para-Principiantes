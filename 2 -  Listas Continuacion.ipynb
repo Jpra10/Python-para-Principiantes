{
 "cells": [
  {
   "cell_type": "markdown",
   "metadata": {},
   "source": [
    "## Subconjuntos de listas\n",
    "\n",
    "Una vez que haya creado su propia lista de Python, necesitará saber cómo puede acceder a la información de la lista. Python usa el índice para hacer esto.\n",
    "\n",
    "Los índices comienzan desde el valor de cero y lo asignamos usando la **variable** que contiene la información *seguida* de **[].**"
   ]
  },
  {
   "cell_type": "code",
   "execution_count": 2,
   "metadata": {},
   "outputs": [
    {
     "name": "stdout",
     "output_type": "stream",
     "text": [
      "90\n"
     ]
    }
   ],
   "source": [
    "#Definir indices en listas x[]\n",
    "Estatura = ['mama',80,'papa',90,'hermana', 60]   \n",
    "\n",
    "estaturaFinal=Estatura + ['lorena',100]\n",
    "\n",
    "#Estatura[3]\n",
    "print(Estatura[-3])"
   ]
  },
  {
   "cell_type": "markdown",
   "metadata": {},
   "source": [
    "**También puede contar hacia atrás,** utilizando índices negativos.  En este caso se comienza desde 1."
   ]
  },
  {
   "cell_type": "code",
   "execution_count": 8,
   "metadata": {},
   "outputs": [
    {
     "data": {
      "text/plain": [
       "['papa', 90]"
      ]
     },
     "execution_count": 8,
     "metadata": {},
     "output_type": "execute_result"
    }
   ],
   "source": [
    "#Definir indices en listas x[-] \n",
    "\n",
    "Estatura = [['mama',80],\n",
    "['papa',90],\n",
    "['hermana', 60] ] \n",
    "\n",
    "Estatura[1]"
   ]
  },
  {
   "cell_type": "markdown",
   "metadata": {},
   "source": [
    "## Segmentar Listas\n",
    "\n",
    "Las segmentación permite seleccionar **varios elementos de una lista**, creando así una nueva lista.\n",
    "\n",
    "Puede hacer esto especificando un rango, usando dos puntos [ **:** ]"
   ]
  },
  {
   "cell_type": "markdown",
   "metadata": {},
   "source": [
    "Es importante tener presente que el indice del lado izquiero es incluido pero el indice del lado derecho NO. \n",
    "\n",
    "##    [ start    :   end  ]\n",
    "      incluido :  no incluido"
   ]
  },
  {
   "cell_type": "code",
   "execution_count": 3,
   "metadata": {},
   "outputs": [
    {
     "data": {
      "text/plain": [
       "[['mama', 80], ['papa', 90]]"
      ]
     },
     "execution_count": 3,
     "metadata": {},
     "output_type": "execute_result"
    }
   ],
   "source": [
    "#Ejemplos de segmentos.\n",
    "Estatura = [['mama',80],\n",
    "['papa',90],\n",
    "['hermana', 60] ] \n",
    "\n",
    "estarura_rango = list(Estatura[:1])\n",
    "Estatura[0:2]"
   ]
  },
  {
   "cell_type": "markdown",
   "metadata": {},
   "source": [
    "*Si omite el índice donde debería comenzar el segmento*, le está diciendo a Python que inicie el segmento desde el índice **0**\n",
    "\n",
    "*Si omite el índice donde debe terminar el segmento*, incluye **todos** los elementos **hasta el último** elemento de la lista **incluido**"
   ]
  },
  {
   "cell_type": "code",
   "execution_count": 8,
   "metadata": {},
   "outputs": [
    {
     "name": "stdout",
     "output_type": "stream",
     "text": [
      "['a', 'b']\n",
      "['c', 'd']\n",
      "['a', 'b', 'c', 'd']\n",
      "0.7058823529411765\n"
     ]
    },
    {
     "data": {
      "text/plain": [
       "list"
      ]
     },
     "execution_count": 8,
     "metadata": {},
     "output_type": "execute_result"
    }
   ],
   "source": [
    "#segmentos parciales [:]\n",
    "\n",
    "x = [\"a\", \"b\", \"c\", \"d\"]\n",
    "print(x[:2])\n",
    "print(x[2:])\n",
    "print(x[:])\n",
    "\n",
    "datosPersona=[input('nombre'),input('edad'),float(input('peso')),float(input('altura'))]\n",
    "valoresIMC=datosPersona[2:]\n",
    "imc= valoresIMC[0] / valoresIMC[1] *2\n",
    "print(imc)\n"
   ]
  },
  {
   "cell_type": "markdown",
   "metadata": {},
   "source": [
    "\n",
    "Para crear subconjuntos de listas de listas, puede utilizar la misma técnica que antes: corchetes **[]** y sguiandote por el recurso **[start : end]** ."
   ]
  },
  {
   "cell_type": "code",
   "execution_count": 24,
   "metadata": {},
   "outputs": [
    {
     "data": {
      "text/plain": [
       "[6516, 'rojo']"
      ]
     },
     "execution_count": 24,
     "metadata": {},
     "output_type": "execute_result"
    }
   ],
   "source": [
    "x = [['tierra', 59875, 'azul'],\n",
    "['mercurio', 651865, 'gris'],\n",
    " [\"marte\", 6516, \"rojo\"]]  \n",
    "\n",
    "x[2][1:]"
   ]
  },
  {
   "cell_type": "markdown",
   "metadata": {},
   "source": [
    "## Manipulación de listas\n",
    "\n",
    "Para modificar elementos de una lista se usa los corchetes y luego les asignas nuevos elementos usando el signo igual **=** "
   ]
  },
  {
   "cell_type": "code",
   "execution_count": 11,
   "metadata": {},
   "outputs": [],
   "source": [
    "x = [\"a\", \"b\", \"c\", \"d\"]\n",
    "\n",
    "x[2]= 'z'\n",
    "\n",
    "y= list(x)\n",
    "x[1]='L'"
   ]
  },
  {
   "cell_type": "markdown",
   "metadata": {},
   "source": [
    "## Agregar y eliminar elementos\n",
    "\n",
    "Si usa el signo **+** con dos listas, Python simplemente pega su contenido en una sola lista pero no cambia el valor inicial de la lista. También podemos hacer uso de funciones propias de "
   ]
  },
  {
   "cell_type": "code",
   "execution_count": 13,
   "metadata": {},
   "outputs": [],
   "source": [
    "#    x + []    /  -   / append  / remove\n",
    "\n",
    "datosPersona=[input('nombre'),input('edad'),float(input('peso')),float(input('altura'))]\n",
    "\n",
    "datosPersona.append('EPS')\n",
    "datosPersona.remove('nombre')\n",
    "\n",
    "\n",
    "valoresIMC=datosPersona[2:]\n",
    "imc= valoresIMC[0] / valoresIMC[1] *2\n",
    "print(imc)\n"
   ]
  },
  {
   "cell_type": "markdown",
   "metadata": {},
   "source": [
    "# IMPORTANTE\n",
    "\n",
    "**¿Qué sucede realmente cuando crea una nueva lista, x, como esta?** \n",
    "Se está almacenando una lista ***en la memoria*** de su computadora y almacena la 'dirección' de esa lista. \n",
    "\n",
    "Esto significa que x **no contiene realmente todos los elementos de la lista**, sino que contiene una referencia a la lista.\n",
    "\n",
    "Para las operaciones básicas, la diferencia no es tan importante, pero lo es más cuando comienza a copiar listas.\n",
    "\n",
    "*`Se copia la referencia a la lista, no los valores reales en sí.`*\n"
   ]
  },
  {
   "cell_type": "code",
   "execution_count": 2,
   "metadata": {},
   "outputs": [
    {
     "data": {
      "text/plain": [
       "['a', 'L', 'c', 'd']"
      ]
     },
     "execution_count": 2,
     "metadata": {},
     "output_type": "execute_result"
    }
   ],
   "source": [
    "x = [\"a\", \"b\", \"c\", \"d\"]\n",
    "y =x\n",
    "y[1]='L'\n",
    "x"
   ]
  },
  {
   "cell_type": "markdown",
   "metadata": {},
   "source": [
    "Para crear elementos que apunten a una unica referencia en memoria debemos usar **list()** o usando **[:]**.\n"
   ]
  },
  {
   "cell_type": "code",
   "execution_count": 10,
   "metadata": {},
   "outputs": [],
   "source": [
    "areas = [11.25, 18.0, 20.0, 10.75, 9.50]\n",
    "\n",
    "areas_copy = list(areas[2:])\n",
    "\n",
    "areas_copy[0] = 5.0"
   ]
  },
  {
   "cell_type": "code",
   "execution_count": null,
   "metadata": {},
   "outputs": [],
   "source": []
  }
 ],
 "metadata": {
  "kernelspec": {
   "display_name": "Python 3.10.5 64-bit (windows store)",
   "language": "python",
   "name": "python3"
  },
  "language_info": {
   "codemirror_mode": {
    "name": "ipython",
    "version": 3
   },
   "file_extension": ".py",
   "mimetype": "text/x-python",
   "name": "python",
   "nbconvert_exporter": "python",
   "pygments_lexer": "ipython3",
   "version": "3.10.5"
  },
  "orig_nbformat": 4,
  "vscode": {
   "interpreter": {
    "hash": "3d2437a6297f09dc0aad8fcc34370227381da3fdd343a01ee3abfafc233531c4"
   }
  }
 },
 "nbformat": 4,
 "nbformat_minor": 2
}
